{
  "nbformat": 4,
  "nbformat_minor": 0,
  "metadata": {
    "colab": {
      "provenance": []
    },
    "kernelspec": {
      "name": "python3",
      "display_name": "Python 3"
    },
    "language_info": {
      "name": "python"
    }
  },
  "cells": [
    {
      "cell_type": "markdown",
      "source": [
        "# Python Object-Oriented Programming Questions:\n",
        "\n",
        "1. What is Object-Oriented Programming (OOP)?\n",
        "- Object-Oriented Programming (OOP) is a programming system based on the concepts of objects, which encapsulate data (attributes) and behavior (methods).It focuses four main Rules:\n",
        " 1. Encapsulation - Bundling data and methods within classes.\n",
        " 2. Inheritance - Deriving new classes from existing ones.\n",
        " 3. Polymorphism - Allowing entities to take multiple forms.\n",
        " 4. Abstraction - Hiding internal details and exposing only essential features.\n",
        "\n",
        "2. What is a class in OOP?\n",
        "- A class is a user-defined data structure in OOP that encapsulates data and functions into a single unit, serving as a model for creating objects.\n",
        "\n",
        "3. What is an object in OOP?\n",
        "- An object is a concrete instance of a class, encapsulating both states and behavior is defined by the class blueprint.\n",
        "\n",
        "4. What is the difference between abstraction and encapsulation?\n",
        "- Abstraction is the concept of hiding implementation details and showing only the essential features.\n",
        "- Encapsulation is the practice of bundling data and methods together and restricting direct access to some parts of an object.\n",
        "\n",
        "5. What are dunder methods in Python?\n",
        "- Dunder methods are built-in, special methods used to define the behavior of objects for common operations like intialization, printing, addition, and more. Examples __init__(), __str__() or __add__().\n",
        "\n",
        "6. Explain the concept of inheritance in OOP.\n",
        "- Inheritance in OOP is the concept where a class (child or subclass) derives properties and behaviors (methods and attributes) from another class (parent or superclass). Inheritance allows a class to reuse and extend the functionality of an existing class, promoting code reuse and hierarchical relationships.\n",
        "\n",
        "7. What is polymorphism in OOP?\n",
        "- Polymorphism allows objects of different classes to be treated through a common interface, while each object can provide its own implementation of the method.\n",
        "\n",
        "8. How is encapsulation achieved in Python?\n",
        "- Encapsulation in Python is achieved by restricting direct access to object attributes and providing controlled access through methods or properties.\n",
        "- Key methods:\n",
        "  - Access modifiers:\n",
        "     - public: self.name - accessible everywhere.\n",
        "     - protected: self.name - internal use (by convention).\n",
        "     - private: self.name - name mangled, not directly accessible.  \n",
        "  - Getters and Setters: Used to access or modify private data safely.\n",
        "  - @property Decorator: Allows attributes access with built-in getter/setter logic.\n",
        "\n",
        "9. What is a constructor in Python?\n",
        "- A constructor in Python is a special method used to intialize a new object when it is created.\n",
        "\n",
        "10. What are class and static methods in Python?\n",
        "- A class method is a method that is bound to the class, not the instance. It receives the class (cls) as its first argument.\n",
        "  - Defined using the @classmethod decorator and can access or modify. class-level data.\n",
        "- A static method does not receive any automatic first argument (neither self nor cls).\n",
        "  - Defined using the @staticmethod decorator and does not access class or instance data.\n",
        "  - Acts like a regular function but belongs to the class's namespace.\n",
        "\n",
        "11. What is method overloading in Python?\n",
        "- Method overloading in Python refers to defining multiple methods with the same name but different parameters. Unlike languages like Java, Python does not support true method overloading. Instead, it achieves similar functionality using default arguments, *args, and **kwargs to handle different numbers or types of arguments within a single method.\n",
        "\n",
        "12. What is method overriding in OOP?\n",
        "- Method overriding in OOP is when a subclass provides a specific implementation of a method already defined in its superclass. The method must have the same name and parameters, allowing the subclass to customize or replace the inherited behavior.\n",
        "\n",
        "13. What is a property decorator in Python?\n",
        "- The @property decorator in Python allows a method to be accessed as an attribute, enabling encapsulation by defining getter, and optionally setter and deleter methods for a class attribute.\n",
        "\n",
        "14. Why is polymorphism important in OOP?\n",
        "- Polymorphism is important in OOP because it enables the same operation or method to behave differently on different classes, promoting dynamic behavior, code generalization, and scalability in OOP design.\n",
        "\n",
        "15. What is an abstract class in Python?\n",
        "- An abstract class in Python, defined using the abc module and the @abstractmethod decorator, provides a blueprint for subclasses and enforces implementation of specific methods.\n",
        "\n",
        "16. What are the advantages of OOP?\n",
        "- Advantages of OOP:\n",
        "  - Modularity - Code is organized and manageable.\n",
        "  - Reusability - Classes can be reused via inheritance.\n",
        "  - Encapsulation - Protects and controls access to data.\n",
        "  - Polymorphism - Enables flexibility with shared interfaces.\n",
        "  - Abstraction - Hides complexity, shows only essentials.\n",
        "  - Maintainability & Scalability - Easier to update and scale.\n",
        "\n",
        "17. What is the difference between a class variable and an instance variable?\n",
        "- Class variable:\n",
        " - Shared across all instances and declared in inside class, outside methods.\n",
        " - Accessed  by ClassName.variable or object.variable.\n",
        " - Use case - common data for all instances.\n",
        "- Instance variable:\n",
        " - Unique to each object and declared in inside methods (usually __init__).\n",
        " - Accessed by object.variable.\n",
        " - Use case - data specific to an individual instance.\n",
        "\n",
        "18. What is multiple inheritance in Python?\n",
        "- Multiple inheritance in Python is when a class inherits from more than one parent class, gaining access to attributes and methods of all parent classes, promoting code reuse and modular design. It is supported directly in Python.\n",
        "\n",
        "19. Explain the purpose of ''__str__' and '__repr__'' methods in Python.\n",
        "- Purpose of __str__ and __repr__ in Python:\n",
        " - __str__ : Returns a user-friendly string representation of an object. Used by print() and str().\n",
        " - __repr__ : Return a string that, ideally, could be used to recreate the object.\n",
        "\n",
        "20. What is the significance of the 'super()' function in Python?\n",
        "- Super() allows access to the methods and properties of a parent class, enabling the subclass to extend or modify the inherited behavior without directly naming the parent class.\n",
        "\n",
        "21. What is the significance of the __del__ method in Python?\n",
        "- The __del__ method is a special method used to define a destructor, which is automatically invoked when an object is garbage collected. It is typically used to release external resources like files, network connections, or memory.\n",
        "\n",
        "22. What is the difference between @staticmethod and @classmethod in Python?\n",
        "- @staticmethod does not take any implicit first argument (no self or cls).\n",
        "- Static methods cannot access class or instance variables.\n",
        "- Use @staticmethod for utility functions.\n",
        "- @classmethod takes cls as the first parameter.\n",
        "- Class methods can access and modify class-level data.\n",
        "- Use @classmethod when class context is needed.\n",
        "\n",
        "23. How does polymorphism work in Python with inheritance?\n",
        "- Polymorphism allows methods in different classes to have the same name but behave differently. With inheritance, a subclass can override a method from the parent class, and the correct method is chosen at runtime based on the object's type.\n",
        "\n",
        "24. What is method chaining in Python OOP?\n",
        "- Method chaining  is a technique where multiple methods are called sequentially on the same object in a single line. It works by having each method return self, allowing the next method to be called on the same instance.\n",
        "\n",
        "25. What is the purpose of the __call__ method in Python?\n",
        "- The __call__ method allows an instance of a class to be called like a function. It defines the behavior executed when the object is invoked with parentheses.\n",
        "  "
      ],
      "metadata": {
        "id": "U3u6gIOhpJOu"
      }
    },
    {
      "cell_type": "code",
      "source": [
        "# Practicle Questions\n",
        "\n",
        "# 1. Create a parent class Animal with a method speak() that prints a generic message. Create a child class Dog\n",
        "#    that overrides the speak() method to print \"Bark!\".\n",
        "\n",
        "# Parent class\n",
        "class Animal:\n",
        "    def speak(self):\n",
        "        print(\"The animal makes a generic sound.\")\n",
        "\n",
        "# Child class\n",
        "class Dog(Animal):\n",
        "    def speak(self):\n",
        "        print(\"Bark!\")\n",
        "\n",
        "\n",
        "animal = Animal()\n",
        "animal.speak()\n",
        "\n",
        "dog = Dog()\n",
        "dog.speak()\n",
        "\n"
      ],
      "metadata": {
        "colab": {
          "base_uri": "https://localhost:8080/"
        },
        "id": "XvTRUW6g7nft",
        "outputId": "886846a0-96a9-414b-d538-e00d9aa761cf"
      },
      "execution_count": 74,
      "outputs": [
        {
          "output_type": "stream",
          "name": "stdout",
          "text": [
            "The animal makes a generic sound.\n",
            "Bark!\n"
          ]
        }
      ]
    },
    {
      "cell_type": "code",
      "source": [
        "# 2. Write a program to create an abstract class Shape with a method area(). Derive classes Circle and Rectangle\n",
        "#    from it and implement the area() method in both.\n",
        "\n",
        "from abc import ABC, abstractmethod\n",
        "import math\n",
        "\n",
        "# Abstract class Shape\n",
        "class Shape(ABC):\n",
        "    @abstractmethod\n",
        "    def area(self):\n",
        "        pass\n",
        "\n",
        "# Derived classes Circle and Rectangle\n",
        "class Circle(Shape):\n",
        "    def __init__(self, radius):\n",
        "        self.radius = radius\n",
        "\n",
        "    def area(self):\n",
        "        return 3.14 * (self.radius ** 2)\n",
        "\n",
        "class Rectangle(Shape):\n",
        "    def __init__(self, length, width):\n",
        "        self.length = length\n",
        "        self.width = width\n",
        "\n",
        "    def area(self):\n",
        "        return self.length * self.width\n",
        "\n",
        "circle = Circle(4)\n",
        "print(f\"Area of circle: {circle.area()}\")\n",
        "\n",
        "rectangle = Rectangle(4, 6)\n",
        "print(f\"Area of rectangle: {rectangle.area()}\")\n",
        "\n"
      ],
      "metadata": {
        "colab": {
          "base_uri": "https://localhost:8080/"
        },
        "id": "JfziMcAq7nnE",
        "outputId": "e35cdf58-cb13-4352-ea0f-39e3ac7ffd07"
      },
      "execution_count": 75,
      "outputs": [
        {
          "output_type": "stream",
          "name": "stdout",
          "text": [
            "Area of circle: 50.24\n",
            "Area of rectangle: 24\n"
          ]
        }
      ]
    },
    {
      "cell_type": "code",
      "source": [
        "\n",
        "# 3. Implement a multi- level inheritance scenario where a Vehicle has an attribute type. Derive a class Car\n",
        "#    and further derive a class ElectricCar that adds a battery attribute.\n",
        "\n",
        "# Base class\n",
        "class Vehicle:\n",
        "    def __init__(self, vehicle_type):\n",
        "        self.type = vehicle_type\n",
        "\n",
        "    def show_type(self):\n",
        "        print(\"Vehicle type:\",self.type)\n",
        "\n",
        "# Derived class Car from Vehicle\n",
        "class Car(Vehicle):\n",
        "    def __init__(self, vehicle_type, model):\n",
        "        super().__init__(vehicle_type)\n",
        "        self.model = model\n",
        "\n",
        "    def show_model(self):\n",
        "        print(\"Car model:\", self.model)\n",
        "\n",
        "# Deived class ElectricCar from Car\n",
        "class ElectricCar(Car):\n",
        "    def __init__(self, vehicle_type, model, battery_capacity):\n",
        "        super().__init__(vehicle_type, model)\n",
        "        self.battery = battery_capacity\n",
        "\n",
        "    def show_battery(self):\n",
        "        print(\"Battery capacity:\", self.battery, \"kwh\")\n",
        "\n",
        "my_car = ElectricCar(\"Four wheeler\", \"Ford model 3\", 85)\n",
        "my_car.show_type()\n",
        "my_car.show_model()\n",
        "my_car.show_battery()\n",
        "\n",
        "\n"
      ],
      "metadata": {
        "colab": {
          "base_uri": "https://localhost:8080/"
        },
        "id": "5D2a0TRI7nsL",
        "outputId": "bdc5cd83-77b5-4f56-9261-eebef6a34150"
      },
      "execution_count": 76,
      "outputs": [
        {
          "output_type": "stream",
          "name": "stdout",
          "text": [
            "Vehicle type: Four wheeler\n",
            "Car model: Ford model 3\n",
            "Battery capacity: 85 kwh\n"
          ]
        }
      ]
    },
    {
      "cell_type": "code",
      "source": [
        "# 4. Demonstrate polymorphism by creating a base class Bird with a method fly(). Create two derived classes\n",
        "#    Sparrow and Penguin that override the fly() method.\n",
        "\n",
        "# Base class Bird\n",
        "class Bird:\n",
        "    def fly(self):\n",
        "        print(\"Birds can fly\")\n",
        "\n",
        "# Derived class Sparrow\n",
        "class Sparrow(Bird):\n",
        "    def fly(self):\n",
        "        print(\"Sparrows can fly\")\n",
        "\n",
        "# Derived class Penguin\n",
        "class Penguin(Bird):\n",
        "    def fly(self):\n",
        "        print(\"Penguins can not fly\")\n",
        "\n",
        "# Function (Polymorphism)\n",
        "def bird_fly(bird):\n",
        "    bird.fly()\n",
        "\n",
        "sparrow = Sparrow()\n",
        "penguin = Penguin()\n",
        "\n",
        "bird_fly(sparrow)\n",
        "bird_fly(penguin)"
      ],
      "metadata": {
        "colab": {
          "base_uri": "https://localhost:8080/"
        },
        "id": "qapW_ksy7nva",
        "outputId": "892305ac-e926-463f-d24a-56e9e592b40e"
      },
      "execution_count": 77,
      "outputs": [
        {
          "output_type": "stream",
          "name": "stdout",
          "text": [
            "Sparrows can fly\n",
            "Penguins can not fly\n"
          ]
        }
      ]
    },
    {
      "cell_type": "code",
      "source": [
        "# 5. Write a program to demonstrate encapsulation by creating a class BankAccount with private attributes\n",
        "#    balance and methods to deposit, withdraw, and check balance.\n",
        "\n",
        "class BankAccount:\n",
        "    def __init__(self, initial_balance=0):\n",
        "      self.__balance = initial_balance   # private attribute\n",
        "\n",
        "    def deposit(self, amount):\n",
        "        if amount > 0:\n",
        "            self.__balance += amount\n",
        "            print(f\"Deposited: ${amount}\")\n",
        "        else:\n",
        "            print(\"Deposit amount must be positive.\")\n",
        "\n",
        "    def withdraw(self, amount):\n",
        "        if amount <= self.__balance:\n",
        "            self.__balance -= amount\n",
        "            print(f\"Withdraw: ${amount}\")\n",
        "        else:\n",
        "            print(\"Insufficient balance.\")\n",
        "\n",
        "    def check_balance(self):\n",
        "        print(f\"Current balance: ${self.__balance}\")\n",
        "\n",
        "\n",
        "account = BankAccount(1000)\n",
        "account.check_balance()\n",
        "account.deposit(1000)\n",
        "account.check_balance()\n",
        "account.withdraw(500)\n",
        "account.check_balance()"
      ],
      "metadata": {
        "id": "HgVcWWif7ny9",
        "colab": {
          "base_uri": "https://localhost:8080/"
        },
        "outputId": "d9f8f73f-c588-4a44-bc0e-d4920ae172af"
      },
      "execution_count": 78,
      "outputs": [
        {
          "output_type": "stream",
          "name": "stdout",
          "text": [
            "Current balance: $1000\n",
            "Deposited: $1000\n",
            "Current balance: $2000\n",
            "Withdraw: $500\n",
            "Current balance: $1500\n"
          ]
        }
      ]
    },
    {
      "cell_type": "code",
      "source": [
        "# 6. Demonstrate runtime polymorphism using a method play() in a base class Instrument. Derive classes Guitar\n",
        "#    and Piano that implement their own version of play().\n",
        "\n",
        "# Base class\n",
        "class Instrument:\n",
        "    def play(self):\n",
        "        print(\"Playing an instrument.\")\n",
        "\n",
        "# Derived class Guitar\n",
        "class Guitar(Instrument):\n",
        "    def play(self):\n",
        "        print(\"Playing a guitar.\")\n",
        "\n",
        "# Derived class Piano\n",
        "class Piano(Instrument):\n",
        "    def play(self):\n",
        "        print(\"Playing a piano\")\n",
        "\n",
        "# Function (runtime polymorphism)\n",
        "def play_instrument(instrument):\n",
        "    instrument.play()\n",
        "\n",
        "g = Guitar()\n",
        "p = Piano()\n",
        "\n",
        "play_instrument(g)\n",
        "play_instrument(p)\n"
      ],
      "metadata": {
        "id": "b8P0ABip_9Qr",
        "colab": {
          "base_uri": "https://localhost:8080/"
        },
        "outputId": "51478b50-6393-4668-f223-2cc3d85442a1"
      },
      "execution_count": 79,
      "outputs": [
        {
          "output_type": "stream",
          "name": "stdout",
          "text": [
            "Playing a guitar.\n",
            "Playing a piano\n"
          ]
        }
      ]
    },
    {
      "cell_type": "code",
      "source": [
        "# 7. Create a class MathOperations with a class method add_numbers() to add two numbers and a static method\n",
        "#    subtract_numbers() to subtract two numbers.\n",
        "\n",
        "class MathOperations:\n",
        "    # class method\n",
        "    @classmethod\n",
        "    def add_numbers(cls, a, b):\n",
        "        return a + b\n",
        "\n",
        "    # static method\n",
        "    @staticmethod\n",
        "    def subtract_numbers(a, b):\n",
        "        return a - b\n",
        "\n",
        "add = MathOperations.add_numbers(20, 10)\n",
        "sub = MathOperations.subtract_numbers(20, 10)\n",
        "print(f\"Add: {add}\")\n",
        "print(f\"Subtract: {sub}\")"
      ],
      "metadata": {
        "id": "ya0gNfZf_9cH",
        "colab": {
          "base_uri": "https://localhost:8080/"
        },
        "outputId": "cd88869d-6ef7-4f8e-b3ae-045a5917769f"
      },
      "execution_count": 80,
      "outputs": [
        {
          "output_type": "stream",
          "name": "stdout",
          "text": [
            "Add: 30\n",
            "Subtract: 10\n"
          ]
        }
      ]
    },
    {
      "cell_type": "code",
      "source": [
        "# 8. Implement a class Person with a class method to count the total number of persons created.\n",
        "\n",
        "class Person:\n",
        "    count = 0  # class variable to keep count\n",
        "\n",
        "    def __init__(self, name):\n",
        "        self.name = name\n",
        "        Person.count += 1  # increment\n",
        "\n",
        "    @classmethod\n",
        "    def total_person(cls):\n",
        "        return cls.count\n",
        "\n",
        "p1 = Person(\"Dipu\")\n",
        "p2 = Person(\"Sinu\")\n",
        "p3 = Person(\"Meenu\")\n",
        "\n",
        "print(\"Total Person:\", Person.total_person())\n"
      ],
      "metadata": {
        "id": "3pbq0SHT_9rG",
        "colab": {
          "base_uri": "https://localhost:8080/"
        },
        "outputId": "55daa45c-277a-40f4-a101-ddf636deb708"
      },
      "execution_count": 81,
      "outputs": [
        {
          "output_type": "stream",
          "name": "stdout",
          "text": [
            "Total Person: 3\n"
          ]
        }
      ]
    },
    {
      "cell_type": "code",
      "source": [
        "# 9. Write a class Fraction with attributes numerator and denominator. Override the str method to display\n",
        "#    the fraction as \"numerator/denominator\".\n",
        "\n",
        "class Fraction:\n",
        "    def __init__(self, numerator, denominator):\n",
        "        self.numerator = numerator\n",
        "        if denominator == 0:\n",
        "            raise ValueError(\"Denominator can not be zero.\")\n",
        "        self.denominator = denominator\n",
        "\n",
        "    def __str__(self):\n",
        "        return f\"{self.numerator}/{self.denominator}\"\n",
        "\n",
        "f1 = Fraction(1, 2)\n",
        "f2 = Fraction(3, 5)\n",
        "\n",
        "print(f1)\n",
        "print(f2)"
      ],
      "metadata": {
        "id": "yCeR8WXHBVFH",
        "colab": {
          "base_uri": "https://localhost:8080/"
        },
        "outputId": "bcdc1f10-9253-4829-b43f-235d4566d9e4"
      },
      "execution_count": 82,
      "outputs": [
        {
          "output_type": "stream",
          "name": "stdout",
          "text": [
            "1/2\n",
            "3/5\n"
          ]
        }
      ]
    },
    {
      "cell_type": "code",
      "source": [
        "# 10. Demonstrate operator overloading by creating a class Vector and overriding the add method to add\n",
        "#     two vectors.\n",
        "\n",
        "class Vector:\n",
        "    def __init__(self, x, y):\n",
        "        self.x = x\n",
        "        self.y = y\n",
        "\n",
        "# overloading\n",
        "    def __add__(self, other):\n",
        "        if isinstance(other, Vector):\n",
        "            return Vector(self.x + other.x, self.y + other.y)\n",
        "        return NotImplemented\n",
        "\n",
        "# displaying the vector\n",
        "    def __str__(self):\n",
        "        return f\"({self.x}, {self.y})\"\n",
        "\n",
        "v1 = Vector(1, 2)\n",
        "v2 = Vector(3, 4)\n",
        "v3 = v1 + v2\n",
        "\n",
        "print(\"Vector 1:\", v1)\n",
        "print(\"Vector 2:\", v2)\n",
        "print(\"Vector 3:\", v3)"
      ],
      "metadata": {
        "id": "KLK1f8pLBVV-",
        "colab": {
          "base_uri": "https://localhost:8080/"
        },
        "outputId": "9f25b02c-7c92-4edd-d368-6e26602a4b4f"
      },
      "execution_count": 83,
      "outputs": [
        {
          "output_type": "stream",
          "name": "stdout",
          "text": [
            "Vector 1: (1, 2)\n",
            "Vector 2: (3, 4)\n",
            "Vector 3: (4, 6)\n"
          ]
        }
      ]
    },
    {
      "cell_type": "code",
      "source": [
        "# 11. Create a class Person with attributes name and age. Add a method greet() that prints \"Hello, my name\n",
        "#     is {name} and I am {age} years old.\"\n",
        "\n",
        "class Person:\n",
        "    def __init__(self, name, age):\n",
        "        self.name = name\n",
        "        self.age = age\n",
        "    def greet(self):\n",
        "        print(f\"Hello, my name is {self.name} and I am {self.age} years old.\")\n",
        ""
      ],
      "metadata": {
        "id": "qPV20gkeprXG"
      },
      "execution_count": 84,
      "outputs": []
    },
    {
      "cell_type": "code",
      "source": [
        "person = Person(\"Dipu\", 22)\n",
        "person.greet()"
      ],
      "metadata": {
        "colab": {
          "base_uri": "https://localhost:8080/"
        },
        "id": "-hNeuEGKslls",
        "outputId": "09ee596b-d5a8-4ef1-df2f-890017130d2f"
      },
      "execution_count": 85,
      "outputs": [
        {
          "output_type": "stream",
          "name": "stdout",
          "text": [
            "Hello, my name is Dipu and I am 22 years old.\n"
          ]
        }
      ]
    },
    {
      "cell_type": "code",
      "source": [
        "# 12. Implement a class Student with attributes name and grades. Create a method average_grade() to compute\n",
        "#     the average of the grades.\n",
        "\n",
        "class Student:\n",
        "    def __init__(self, name, grades):\n",
        "        self.name = name\n",
        "        self.grades = grades # list of numbers\n",
        "\n",
        "    # method\n",
        "    def average_grade(self):\n",
        "        if not self.grades:\n",
        "            return 0  # handle case when there are no grades\n",
        "        return sum(self.grades)/len(self.grades)\n"
      ],
      "metadata": {
        "id": "FY-zfoXGprkx"
      },
      "execution_count": 86,
      "outputs": []
    },
    {
      "cell_type": "code",
      "source": [
        "stu = Student(\"Dipu\",[40,50,60,80])\n",
        "print(f\"{stu.name}'s average grade is: {stu.average_grade()}\")"
      ],
      "metadata": {
        "colab": {
          "base_uri": "https://localhost:8080/"
        },
        "id": "G_vx3bmOtjZg",
        "outputId": "4c3641c8-a368-4599-c006-f83bb72b44e5"
      },
      "execution_count": 87,
      "outputs": [
        {
          "output_type": "stream",
          "name": "stdout",
          "text": [
            "Dipu's average grade is: 57.5\n"
          ]
        }
      ]
    },
    {
      "cell_type": "code",
      "source": [
        "# 13. Create a class Rectangle with methods set_dimensions() to set the dimensions and area() to calculate the area.\n",
        "\n",
        "class Rectangle:\n",
        "    def __init__(self):\n",
        "        self.length = 0\n",
        "        self.width = 0\n",
        "\n",
        "    def set_dimensions(self, length, width):\n",
        "        self.length = length\n",
        "        self.width = width\n",
        "\n",
        "    def area(self):\n",
        "        return self.length * self.width\n",
        "\n",
        "r = Rectangle()\n",
        "r.set_dimensions(10, 20)\n",
        "print(\"Area:\", r.area())"
      ],
      "metadata": {
        "colab": {
          "base_uri": "https://localhost:8080/"
        },
        "id": "GvtTnryYubaR",
        "outputId": "bdfe3775-df0e-41bb-923f-594693ac5d38"
      },
      "execution_count": 88,
      "outputs": [
        {
          "output_type": "stream",
          "name": "stdout",
          "text": [
            "Area: 200\n"
          ]
        }
      ]
    },
    {
      "cell_type": "code",
      "source": [
        "# 14. Create a class Employee with a method calculate_salary() that computes the salary based on hours worked and\n",
        "#     hourly rate. Create a derived class Manager that adds a bonus to the salary.\n",
        "\n",
        "class Employee:\n",
        "    def __init__(self, name, hours_worked, hourly_rate):\n",
        "        self.name = name\n",
        "        self.hours_worked = hours_worked\n",
        "        self.hourly_rate = hourly_rate\n",
        "\n",
        "    def calculate_salary(self):\n",
        "        return self.hours_worked * self.hourly_rate\n",
        "\n",
        "class Manager(Employee):\n",
        "    def __init__(self, name, hours_worked, hourly_rate, bonus):\n",
        "        super().__init__(name, hours_worked, hourly_rate)\n",
        "        self.bonus = bonus\n",
        "\n",
        "    def calculate_salary(self):\n",
        "        base_salary = super().calculate_salary()\n",
        "        return base_salary + self.bonus\n",
        "\n",
        "emp = Employee(\"Dipu\", 40, 50)\n",
        "print(f\"{emp.name}'s salary is: ${emp.calculate_salary()}\")\n",
        "\n",
        "mng = Manager(\"John\", 40, 30, 1000)\n",
        "print(f\"{mng.name}'s salary with bonus: {mng.calculate_salary()}\")"
      ],
      "metadata": {
        "colab": {
          "base_uri": "https://localhost:8080/"
        },
        "id": "WvpzstXlubnQ",
        "outputId": "9f88df49-7768-48d8-dfe5-2aaef4dcf9cb"
      },
      "execution_count": 89,
      "outputs": [
        {
          "output_type": "stream",
          "name": "stdout",
          "text": [
            "Dipu's salary is: $2000\n",
            "John's salary with bonus: 2200\n"
          ]
        }
      ]
    },
    {
      "cell_type": "code",
      "source": [
        "# 15. Create a class Product with attributes name, price, and quantity. Implement a method\n",
        "#      total_price() that calculates the total price of the product.\n",
        "\n",
        "class Product:\n",
        "    def __init__(self, name, price, quantity):\n",
        "        self.name = name\n",
        "        self.price = price\n",
        "        self.quantity = quantity\n",
        "\n",
        "    def total_price(self):\n",
        "        return self.price * self.quantity\n"
      ],
      "metadata": {
        "id": "8hjvwUcvzWs3"
      },
      "execution_count": 90,
      "outputs": []
    },
    {
      "cell_type": "code",
      "source": [
        "pro = Product(\"Laptop\", 1000, 5)\n",
        "print(f\"Total price of {pro.name} is: {pro.total_price()}\")"
      ],
      "metadata": {
        "colab": {
          "base_uri": "https://localhost:8080/"
        },
        "id": "6mkgmJOl1QS6",
        "outputId": "97ba4d36-75af-4853-9827-7c0c44632932"
      },
      "execution_count": 91,
      "outputs": [
        {
          "output_type": "stream",
          "name": "stdout",
          "text": [
            "Total price of Laptop is: 5000\n"
          ]
        }
      ]
    },
    {
      "cell_type": "code",
      "source": [
        "# 16. Create a class Animal with an abstract method sound(). Create two derived classes Cow and Sheep that implement the sound() method.\n",
        "from abc import ABC, abstractmethod\n",
        "\n",
        "class Animal(ABC):\n",
        "    @abstractmethod\n",
        "    def sound(self):\n",
        "        pass\n",
        "\n",
        "class Cow(Animal):\n",
        "    def sound(self):\n",
        "        return \"Moo!\"\n",
        "\n",
        "class Sheep(Animal):\n",
        "    def sound(self):\n",
        "        return \"Baa!\"\n",
        "\n",
        "\n",
        "cow = Cow()\n",
        "sheep = Sheep()\n",
        "\n",
        "print(\"Cow:\", cow.sound())\n",
        "print(\"Sheep:\", sheep.sound())"
      ],
      "metadata": {
        "colab": {
          "base_uri": "https://localhost:8080/"
        },
        "id": "uIi-nNTlzXIs",
        "outputId": "35355f9c-5b10-4e2b-9aa9-e151deff65e2"
      },
      "execution_count": 92,
      "outputs": [
        {
          "output_type": "stream",
          "name": "stdout",
          "text": [
            "Cow: Moo!\n",
            "Sheep: Baa!\n"
          ]
        }
      ]
    },
    {
      "cell_type": "code",
      "source": [
        "# 17. Create a class Book with attributes title, author, and year_published. Add a method\n",
        "#     get_book_info() that returns a formatted string with the book's details.\n",
        "\n",
        "class Book:\n",
        "    def __init__(self, title, author, year_published):\n",
        "        self.title = title\n",
        "        self.author = author\n",
        "        self.year_published = year_published\n",
        "\n",
        "    def get_book_info(self):\n",
        "        return f\" '{self.title}' by {self.author}, published in {self.year_published}\"\n",
        "\n",
        "\n",
        "book = Book(\"The Alchemist\", \"Paulo Ceolho\", 1988)\n",
        "print(book.get_book_info())\n"
      ],
      "metadata": {
        "colab": {
          "base_uri": "https://localhost:8080/"
        },
        "id": "vVyR_8y13Xnj",
        "outputId": "a442be51-b710-43bd-c8fd-89529da9876a"
      },
      "execution_count": 93,
      "outputs": [
        {
          "output_type": "stream",
          "name": "stdout",
          "text": [
            " 'The Alchemist' by Paulo Ceolho, published in 1988\n"
          ]
        }
      ]
    },
    {
      "cell_type": "code",
      "source": [
        "# 18. Create a class House with attributes address and price. Create a derived class Mansion that adds an attribute number_of_rooms.\n",
        "\n",
        "class House:\n",
        "    def __init__(self, address, price):\n",
        "        self.address = address\n",
        "        self.price = price\n",
        "\n",
        "    def get_info(self):\n",
        "        return f\"Address: {self.address}, Price: ${self.price}\"\n",
        "\n",
        "class Mansion(House):\n",
        "    def __init__(self, address, price, number_of_rooms):\n",
        "        super().__init__(address, price)\n",
        "        self.number_of_rooms = number_of_rooms\n",
        "\n",
        "    def get_info(self):\n",
        "        base_info = super().get_info()\n",
        "        return f\"{base_info}, Number of rooms: {self.number_of_rooms}\"\n",
        "\n",
        "mansion = Mansion(\"123 Main stand\", 250000, 8)\n",
        "print(mansion.get_info())"
      ],
      "metadata": {
        "colab": {
          "base_uri": "https://localhost:8080/"
        },
        "id": "_YVIQXgv3rVX",
        "outputId": "e01f95e1-f2ee-462f-d3f0-b00583729406"
      },
      "execution_count": 94,
      "outputs": [
        {
          "output_type": "stream",
          "name": "stdout",
          "text": [
            "Address: 123 Main stand, Price: $250000, Number of rooms: 8\n"
          ]
        }
      ]
    }
  ]
}